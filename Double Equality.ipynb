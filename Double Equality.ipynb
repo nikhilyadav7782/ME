{
 "cells": [
  {
   "cell_type": "code",
   "execution_count": 1,
   "id": "d89a725d",
   "metadata": {},
   "outputs": [],
   "source": [
    "y=5**3"
   ]
  },
  {
   "cell_type": "code",
   "execution_count": 2,
   "id": "b957630c",
   "metadata": {},
   "outputs": [
    {
     "data": {
      "text/plain": [
       "125"
      ]
     },
     "execution_count": 2,
     "metadata": {},
     "output_type": "execute_result"
    }
   ],
   "source": [
    "y"
   ]
  },
  {
   "cell_type": "code",
   "execution_count": 3,
   "id": "f9e73afd",
   "metadata": {},
   "outputs": [
    {
     "data": {
      "text/plain": [
       "True"
      ]
     },
     "execution_count": 3,
     "metadata": {},
     "output_type": "execute_result"
    }
   ],
   "source": [
    "y==125  #Means IS EQUAL TO"
   ]
  },
  {
   "cell_type": "code",
   "execution_count": 4,
   "id": "2f1db519",
   "metadata": {},
   "outputs": [
    {
     "data": {
      "text/plain": [
       "False"
      ]
     },
     "execution_count": 4,
     "metadata": {},
     "output_type": "execute_result"
    }
   ],
   "source": [
    "y==126"
   ]
  },
  {
   "cell_type": "code",
   "execution_count": null,
   "id": "b7be84f4",
   "metadata": {},
   "outputs": [],
   "source": []
  }
 ],
 "metadata": {
  "kernelspec": {
   "display_name": "Python 3 (ipykernel)",
   "language": "python",
   "name": "python3"
  },
  "language_info": {
   "codemirror_mode": {
    "name": "ipython",
    "version": 3
   },
   "file_extension": ".py",
   "mimetype": "text/x-python",
   "name": "python",
   "nbconvert_exporter": "python",
   "pygments_lexer": "ipython3",
   "version": "3.9.13"
  }
 },
 "nbformat": 4,
 "nbformat_minor": 5
}
