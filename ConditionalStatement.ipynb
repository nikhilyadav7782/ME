{
 "cells": [
  {
   "cell_type": "markdown",
   "id": "58a661b0",
   "metadata": {},
   "source": [
    "# IF"
   ]
  },
  {
   "cell_type": "code",
   "execution_count": 1,
   "id": "1cb0737f",
   "metadata": {},
   "outputs": [
    {
     "name": "stdout",
     "output_type": "stream",
     "text": [
      "Hooray!\n"
     ]
    }
   ],
   "source": [
    "if 5==15/3:\n",
    "    print(\"Hooray!\")"
   ]
  },
  {
   "cell_type": "code",
   "execution_count": 2,
   "id": "84c9b2e1",
   "metadata": {},
   "outputs": [],
   "source": [
    "if 5==18/3:\n",
    "    print(\"Hooray!\")"
   ]
  },
  {
   "cell_type": "code",
   "execution_count": 3,
   "id": "e494de59",
   "metadata": {},
   "outputs": [
    {
     "name": "stdout",
     "output_type": "stream",
     "text": [
      "Hooray!\n"
     ]
    }
   ],
   "source": [
    "if 5 != 8:\n",
    "    print(\"Hooray!\")"
   ]
  },
  {
   "cell_type": "markdown",
   "id": "117ff8e8",
   "metadata": {},
   "source": [
    "# IF ELSE"
   ]
  },
  {
   "cell_type": "code",
   "execution_count": 4,
   "id": "d67e00d8",
   "metadata": {},
   "outputs": [
    {
     "name": "stdout",
     "output_type": "stream",
     "text": [
      "NIK\n"
     ]
    }
   ],
   "source": [
    "x=1\n",
    "\n",
    "if x>0:\n",
    "    print(\"NIK\")\n",
    "else:\n",
    "    print(\"YADAV\")"
   ]
  },
  {
   "cell_type": "code",
   "execution_count": 5,
   "id": "815d7e15",
   "metadata": {},
   "outputs": [
    {
     "name": "stdout",
     "output_type": "stream",
     "text": [
      "YADAV\n"
     ]
    }
   ],
   "source": [
    "x=1\n",
    "\n",
    "if x>3:\n",
    "    print(\"NIK\")\n",
    "else:\n",
    "    print(\"YADAV\")"
   ]
  },
  {
   "cell_type": "code",
   "execution_count": 7,
   "id": "052c3470",
   "metadata": {},
   "outputs": [
    {
     "ename": "SyntaxError",
     "evalue": "invalid syntax (2790538747.py, line 5)",
     "output_type": "error",
     "traceback": [
      "\u001b[1;36m  File \u001b[1;32m\"C:\\Users\\NIKHIL-ARYAN\\AppData\\Local\\Temp\\ipykernel_4188\\2790538747.py\"\u001b[1;36m, line \u001b[1;32m5\u001b[0m\n\u001b[1;33m    else:                  ### INDENTATION ERROR #######\u001b[0m\n\u001b[1;37m    ^\u001b[0m\n\u001b[1;31mSyntaxError\u001b[0m\u001b[1;31m:\u001b[0m invalid syntax\n"
     ]
    }
   ],
   "source": [
    "x=1\n",
    "\n",
    "if x>3:\n",
    "    print(\"NIK\")\n",
    "    else:                  ### INDENTATION ERROR #######\n",
    "        print(\"YADAV\")     ### IF ELSE SHOULD BE ALLIGN IN ONE LINE ######"
   ]
  },
  {
   "cell_type": "markdown",
   "id": "48d2cf55",
   "metadata": {},
   "source": [
    "# IF ELSE ELIF"
   ]
  },
  {
   "cell_type": "code",
   "execution_count": 18,
   "id": "eea55fe1",
   "metadata": {},
   "outputs": [],
   "source": [
    "def count(y):\n",
    "    if y > 3:\n",
    "        return \"Greater\"\n",
    "    elif y < 3:\n",
    "        return \"Less\"\n",
    "    else:\n",
    "        return \"Equal\""
   ]
  },
  {
   "cell_type": "code",
   "execution_count": 19,
   "id": "9745f945",
   "metadata": {},
   "outputs": [
    {
     "data": {
      "text/plain": [
       "'Less'"
      ]
     },
     "execution_count": 19,
     "metadata": {},
     "output_type": "execute_result"
    }
   ],
   "source": [
    "count(2)"
   ]
  },
  {
   "cell_type": "code",
   "execution_count": 20,
   "id": "a4b0ad1f",
   "metadata": {},
   "outputs": [
    {
     "data": {
      "text/plain": [
       "'Greater'"
      ]
     },
     "execution_count": 20,
     "metadata": {},
     "output_type": "execute_result"
    }
   ],
   "source": [
    "count(4)"
   ]
  },
  {
   "cell_type": "code",
   "execution_count": 21,
   "id": "ef87d6e3",
   "metadata": {},
   "outputs": [
    {
     "data": {
      "text/plain": [
       "'Equal'"
      ]
     },
     "execution_count": 21,
     "metadata": {},
     "output_type": "execute_result"
    }
   ],
   "source": [
    "count(3)"
   ]
  },
  {
   "cell_type": "code",
   "execution_count": 22,
   "id": "1a463bb4",
   "metadata": {},
   "outputs": [],
   "source": [
    "def count(y):\n",
    "    if y > 3:\n",
    "        return \"Greater\"\n",
    "    elif y < 0:\n",
    "        return \"Negative\"    ##### IT GOES LINE WISE #####\n",
    "    elif y < 3:\n",
    "        return \"Less\"\n",
    "    else:\n",
    "        return \"Equal\""
   ]
  },
  {
   "cell_type": "code",
   "execution_count": 23,
   "id": "c3c2c91d",
   "metadata": {},
   "outputs": [
    {
     "data": {
      "text/plain": [
       "'Negative'"
      ]
     },
     "execution_count": 23,
     "metadata": {},
     "output_type": "execute_result"
    }
   ],
   "source": [
    "count(-1)"
   ]
  },
  {
   "cell_type": "markdown",
   "id": "60fa1218",
   "metadata": {},
   "source": [
    "# NOTE THE DIFFERENCE"
   ]
  },
  {
   "cell_type": "code",
   "execution_count": 24,
   "id": "493ca87a",
   "metadata": {},
   "outputs": [],
   "source": [
    "def count(y):\n",
    "    if y > 3:\n",
    "        return \"Greater\"\n",
    "    elif y < 3:\n",
    "        return \"Less\"      ####  IT GOES LINE WISE #####\n",
    "    elif y < 0:\n",
    "        return \"Negative\"\n",
    "    else:\n",
    "        return \"Equal\""
   ]
  },
  {
   "cell_type": "code",
   "execution_count": 25,
   "id": "2bc88504",
   "metadata": {},
   "outputs": [
    {
     "data": {
      "text/plain": [
       "'Less'"
      ]
     },
     "execution_count": 25,
     "metadata": {},
     "output_type": "execute_result"
    }
   ],
   "source": [
    "count(-1)"
   ]
  },
  {
   "cell_type": "code",
   "execution_count": null,
   "id": "1bfd3d96",
   "metadata": {},
   "outputs": [],
   "source": []
  }
 ],
 "metadata": {
  "kernelspec": {
   "display_name": "Python 3 (ipykernel)",
   "language": "python",
   "name": "python3"
  },
  "language_info": {
   "codemirror_mode": {
    "name": "ipython",
    "version": 3
   },
   "file_extension": ".py",
   "mimetype": "text/x-python",
   "name": "python",
   "nbconvert_exporter": "python",
   "pygments_lexer": "ipython3",
   "version": "3.9.13"
  }
 },
 "nbformat": 4,
 "nbformat_minor": 5
}
