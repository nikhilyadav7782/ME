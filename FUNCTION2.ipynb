{
 "cells": [
  {
   "cell_type": "markdown",
   "id": "1758a58c",
   "metadata": {},
   "source": [
    "# FUNCTION INSIDE A FUNCTION"
   ]
  },
  {
   "cell_type": "code",
   "execution_count": 1,
   "id": "33a2774f",
   "metadata": {},
   "outputs": [],
   "source": [
    "def wage(w_hours):\n",
    "    return w_hours * 25\n",
    "def with_bonus(w_hours):\n",
    "    return wage(w_hours) + 100"
   ]
  },
  {
   "cell_type": "code",
   "execution_count": 2,
   "id": "b4056725",
   "metadata": {},
   "outputs": [
    {
     "data": {
      "text/plain": [
       "(200, 300)"
      ]
     },
     "execution_count": 2,
     "metadata": {},
     "output_type": "execute_result"
    }
   ],
   "source": [
    "wage(8),with_bonus(8)"
   ]
  },
  {
   "cell_type": "code",
   "execution_count": 3,
   "id": "2df6e52d",
   "metadata": {},
   "outputs": [],
   "source": [
    "def nik(y):\n",
    "    return y+5          ###### NOTE NIK KE JAGAH PE PLUS_FIVE LIKHO #######\n",
    "def niki(y):\n",
    "    return nik(y) *3"
   ]
  },
  {
   "cell_type": "code",
   "execution_count": 4,
   "id": "4253f809",
   "metadata": {},
   "outputs": [
    {
     "data": {
      "text/plain": [
       "(8, 30)"
      ]
     },
     "execution_count": 4,
     "metadata": {},
     "output_type": "execute_result"
    }
   ],
   "source": [
    "nik(3),niki(5)   #### IDHAR ARGUMENT KA VALUE ALAG THA LAST WALE SE #####"
   ]
  },
  {
   "cell_type": "markdown",
   "id": "19c945d2",
   "metadata": {},
   "source": [
    "# FUNCTION WITH CONDITON"
   ]
  },
  {
   "cell_type": "code",
   "execution_count": 5,
   "id": "308fd395",
   "metadata": {},
   "outputs": [],
   "source": [
    "def add_10(r):\n",
    "    if r >= 100:\n",
    "        return r+10\n",
    "    else:\n",
    "        return \"SAVE MONEY\""
   ]
  },
  {
   "cell_type": "code",
   "execution_count": 6,
   "id": "8fcb0ed5",
   "metadata": {},
   "outputs": [
    {
     "data": {
      "text/plain": [
       "110"
      ]
     },
     "execution_count": 6,
     "metadata": {},
     "output_type": "execute_result"
    }
   ],
   "source": [
    "add_10(100)"
   ]
  },
  {
   "cell_type": "code",
   "execution_count": 7,
   "id": "425961e3",
   "metadata": {},
   "outputs": [
    {
     "data": {
      "text/plain": [
       "'SAVE MONEY'"
      ]
     },
     "execution_count": 7,
     "metadata": {},
     "output_type": "execute_result"
    }
   ],
   "source": [
    "add_10(99)"
   ]
  },
  {
   "cell_type": "code",
   "execution_count": 31,
   "id": "74a6f27f",
   "metadata": {},
   "outputs": [],
   "source": [
    "def compare_the_two(x,y):\n",
    "    if x > y:\n",
    "        return \"Greater\"\n",
    "    elif y > x:\n",
    "        return \"Less\"\n",
    "    else:\n",
    "        return \"Equal\""
   ]
  },
  {
   "cell_type": "code",
   "execution_count": 32,
   "id": "ad737e31",
   "metadata": {},
   "outputs": [
    {
     "data": {
      "text/plain": [
       "'Less'"
      ]
     },
     "execution_count": 32,
     "metadata": {},
     "output_type": "execute_result"
    }
   ],
   "source": [
    "compare_the_two(1,2)"
   ]
  },
  {
   "cell_type": "code",
   "execution_count": 33,
   "id": "4ca74ecd",
   "metadata": {},
   "outputs": [
    {
     "data": {
      "text/plain": [
       "'Greater'"
      ]
     },
     "execution_count": 33,
     "metadata": {},
     "output_type": "execute_result"
    }
   ],
   "source": [
    "compare_the_two(2,1)"
   ]
  },
  {
   "cell_type": "code",
   "execution_count": 34,
   "id": "27fbbb88",
   "metadata": {},
   "outputs": [
    {
     "data": {
      "text/plain": [
       "'Equal'"
      ]
     },
     "execution_count": 34,
     "metadata": {},
     "output_type": "execute_result"
    }
   ],
   "source": [
    "compare_the_two(2,2)"
   ]
  },
  {
   "cell_type": "markdown",
   "id": "c641e3c4",
   "metadata": {},
   "source": [
    "# FUNCTION WITH MORE PARAMETER"
   ]
  },
  {
   "cell_type": "code",
   "execution_count": 35,
   "id": "14b1290a",
   "metadata": {},
   "outputs": [],
   "source": [
    "def equation(a,b,c):\n",
    "    result=a+b+c\n",
    "    print(\"Number is\",a)\n",
    "    print(\"Number is\",b)\n",
    "    print(\"Number is\",c)\n",
    "    return result"
   ]
  },
  {
   "cell_type": "code",
   "execution_count": 36,
   "id": "98356414",
   "metadata": {
    "scrolled": true
   },
   "outputs": [
    {
     "name": "stdout",
     "output_type": "stream",
     "text": [
      "Number is 1\n",
      "Number is 2\n",
      "Number is 3\n"
     ]
    },
    {
     "data": {
      "text/plain": [
       "6"
      ]
     },
     "execution_count": 36,
     "metadata": {},
     "output_type": "execute_result"
    }
   ],
   "source": [
    "equation(1,2,3)"
   ]
  }
 ],
 "metadata": {
  "kernelspec": {
   "display_name": "Python 3 (ipykernel)",
   "language": "python",
   "name": "python3"
  },
  "language_info": {
   "codemirror_mode": {
    "name": "ipython",
    "version": 3
   },
   "file_extension": ".py",
   "mimetype": "text/x-python",
   "name": "python",
   "nbconvert_exporter": "python",
   "pygments_lexer": "ipython3",
   "version": "3.9.13"
  }
 },
 "nbformat": 4,
 "nbformat_minor": 5
}
