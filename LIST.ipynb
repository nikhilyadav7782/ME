{
 "cells": [
  {
   "cell_type": "markdown",
   "id": "36613584",
   "metadata": {},
   "source": [
    "# LISTS"
   ]
  },
  {
   "cell_type": "markdown",
   "id": "783bb451",
   "metadata": {},
   "source": [
    "### A LIST STORES INTEGER , FLOAT AND STRING"
   ]
  },
  {
   "cell_type": "code",
   "execution_count": 1,
   "id": "b0af9ceb",
   "metadata": {},
   "outputs": [
    {
     "data": {
      "text/plain": [
       "['NIKHIL', 22, 22.22, 'YADAV']"
      ]
     },
     "execution_count": 1,
     "metadata": {},
     "output_type": "execute_result"
    }
   ],
   "source": [
    "Participants=[\"NIKHIL\",22,22.22,\"YADAV\"]\n",
    "Participants"
   ]
  },
  {
   "cell_type": "markdown",
   "id": "a87317a6",
   "metadata": {},
   "source": [
    "# NOW SLICING WITH \"POSITIVE\" INDEXING "
   ]
  },
  {
   "cell_type": "code",
   "execution_count": 2,
   "id": "dd349d4a",
   "metadata": {},
   "outputs": [
    {
     "data": {
      "text/plain": [
       "'NIKHIL'"
      ]
     },
     "execution_count": 2,
     "metadata": {},
     "output_type": "execute_result"
    }
   ],
   "source": [
    "Participants[0] #POSTIVE INDEXING STARTS FROM 0 AND FROM LEFT SIDE TO RIGHT SIDE.HERE FIRST ELEMENT WAS NIKHIL SO INDEXING WAS 0"
   ]
  },
  {
   "cell_type": "code",
   "execution_count": 3,
   "id": "48e578e1",
   "metadata": {
    "scrolled": true
   },
   "outputs": [
    {
     "data": {
      "text/plain": [
       "22.22"
      ]
     },
     "execution_count": 3,
     "metadata": {},
     "output_type": "execute_result"
    }
   ],
   "source": [
    "Participants[2]"
   ]
  },
  {
   "cell_type": "markdown",
   "id": "1175569f",
   "metadata": {},
   "source": [
    "# "
   ]
  },
  {
   "cell_type": "markdown",
   "id": "32ebf9cd",
   "metadata": {},
   "source": [
    "# NOTE EITHER POSITIVE OR NEGATIVE THE INDEXING OF FIRST NUMBER WILL ALWAYS BE 0 "
   ]
  },
  {
   "cell_type": "markdown",
   "id": "c53e6634",
   "metadata": {},
   "source": [
    "# "
   ]
  },
  {
   "cell_type": "markdown",
   "id": "e010d4bf",
   "metadata": {},
   "source": [
    "# SLICING WITH \"NEGATIVE\" INDEXING"
   ]
  },
  {
   "cell_type": "code",
   "execution_count": 4,
   "id": "172cbd4a",
   "metadata": {
    "scrolled": true
   },
   "outputs": [
    {
     "data": {
      "text/plain": [
       "'YADAV'"
      ]
     },
     "execution_count": 4,
     "metadata": {},
     "output_type": "execute_result"
    }
   ],
   "source": [
    "Participants[-1]  # NEGATIVE INDEXING STARTS FROM RIGHT SIDE TO LEFT SIDE. HERE LAST ELEMENT WAS YADAV SO INDEXING WAS -1"
   ]
  },
  {
   "cell_type": "code",
   "execution_count": 5,
   "id": "f8105434",
   "metadata": {},
   "outputs": [],
   "source": [
    "Participants[3] = \"RAI\"    "
   ]
  },
  {
   "cell_type": "markdown",
   "id": "2fc94e9e",
   "metadata": {},
   "source": [
    "# VALUE REPLACEMENT BY INDEXING "
   ]
  },
  {
   "cell_type": "code",
   "execution_count": 6,
   "id": "2f35b409",
   "metadata": {},
   "outputs": [
    {
     "data": {
      "text/plain": [
       "['NIKHIL', 22, 22.22, 'RAI']"
      ]
     },
     "execution_count": 6,
     "metadata": {},
     "output_type": "execute_result"
    }
   ],
   "source": [
    "Participants"
   ]
  },
  {
   "cell_type": "code",
   "execution_count": 7,
   "id": "b47256c8",
   "metadata": {},
   "outputs": [
    {
     "data": {
      "text/plain": [
       "['NIKHIL', 22, 22.22]"
      ]
     },
     "execution_count": 7,
     "metadata": {},
     "output_type": "execute_result"
    }
   ],
   "source": [
    "del Participants[3]   # DEL WILL DELETE\n",
    "Participants"
   ]
  },
  {
   "cell_type": "markdown",
   "id": "8b6e644c",
   "metadata": {},
   "source": [
    "# USING METHODS IN PYTHON (HUMLOG ISKO FUNCTION BHI BOLENGE BICH BICH MAI)"
   ]
  },
  {
   "cell_type": "code",
   "execution_count": 8,
   "id": "b4a3c779",
   "metadata": {},
   "outputs": [],
   "source": [
    "Participants.append(\"YADAVA\")    ### LAST MAI VALUE ADD HOGA"
   ]
  },
  {
   "cell_type": "code",
   "execution_count": 9,
   "id": "38920509",
   "metadata": {
    "scrolled": true
   },
   "outputs": [
    {
     "data": {
      "text/plain": [
       "['NIKHIL', 22, 22.22, 'YADAVA']"
      ]
     },
     "execution_count": 9,
     "metadata": {},
     "output_type": "execute_result"
    }
   ],
   "source": [
    "Participants"
   ]
  },
  {
   "cell_type": "code",
   "execution_count": 10,
   "id": "df07b0ef",
   "metadata": {},
   "outputs": [],
   "source": [
    "Participants.extend([\"RAI\",\"VISHWA\"])"
   ]
  },
  {
   "cell_type": "code",
   "execution_count": 11,
   "id": "0b7f8a57",
   "metadata": {},
   "outputs": [
    {
     "data": {
      "text/plain": [
       "['NIKHIL', 22, 22.22, 'YADAVA', 'RAI', 'VISHWA']"
      ]
     },
     "execution_count": 11,
     "metadata": {},
     "output_type": "execute_result"
    }
   ],
   "source": [
    "Participants"
   ]
  },
  {
   "cell_type": "code",
   "execution_count": 16,
   "id": "a02a115c",
   "metadata": {},
   "outputs": [
    {
     "name": "stdout",
     "output_type": "stream",
     "text": [
      "ISKA NAAM NIKHIL HAI.\n"
     ]
    }
   ],
   "source": [
    "print(\"ISKA NAAM \" +  Participants[0] + \" HAI.\")"
   ]
  },
  {
   "cell_type": "code",
   "execution_count": 13,
   "id": "1c3627fa",
   "metadata": {
    "scrolled": true
   },
   "outputs": [
    {
     "data": {
      "text/plain": [
       "6"
      ]
     },
     "execution_count": 13,
     "metadata": {},
     "output_type": "execute_result"
    }
   ],
   "source": [
    "len(Participants[0])"
   ]
  },
  {
   "cell_type": "code",
   "execution_count": 14,
   "id": "d4a842f2",
   "metadata": {},
   "outputs": [
    {
     "data": {
      "text/plain": [
       "6"
      ]
     },
     "execution_count": 14,
     "metadata": {},
     "output_type": "execute_result"
    }
   ],
   "source": [
    "len (Participants)"
   ]
  },
  {
   "cell_type": "markdown",
   "id": "0a904786",
   "metadata": {},
   "source": [
    "# LIST SLICING"
   ]
  },
  {
   "cell_type": "code",
   "execution_count": 17,
   "id": "50b92087",
   "metadata": {},
   "outputs": [
    {
     "data": {
      "text/plain": [
       "['NIKHIL', 22, 22.22, 'YADAVA', 'RAI', 'VISHWA']"
      ]
     },
     "execution_count": 17,
     "metadata": {},
     "output_type": "execute_result"
    }
   ],
   "source": [
    "Participants"
   ]
  },
  {
   "cell_type": "code",
   "execution_count": 19,
   "id": "fe5ac4b7",
   "metadata": {
    "scrolled": true
   },
   "outputs": [
    {
     "data": {
      "text/plain": [
       "[22, 22.22]"
      ]
     },
     "execution_count": 19,
     "metadata": {},
     "output_type": "execute_result"
    }
   ],
   "source": [
    "Participants[1:3]"
   ]
  },
  {
   "cell_type": "code",
   "execution_count": 20,
   "id": "c5be8f9a",
   "metadata": {
    "scrolled": true
   },
   "outputs": [
    {
     "data": {
      "text/plain": [
       "['NIKHIL', 22, 22.22]"
      ]
     },
     "execution_count": 20,
     "metadata": {},
     "output_type": "execute_result"
    }
   ],
   "source": [
    "Participants[:3]"
   ]
  },
  {
   "cell_type": "code",
   "execution_count": 21,
   "id": "ae3e1cf9",
   "metadata": {},
   "outputs": [
    {
     "data": {
      "text/plain": [
       "[22.22, 'YADAVA', 'RAI', 'VISHWA']"
      ]
     },
     "execution_count": 21,
     "metadata": {},
     "output_type": "execute_result"
    }
   ],
   "source": [
    "Participants[2:]"
   ]
  },
  {
   "cell_type": "code",
   "execution_count": 22,
   "id": "2cc252d0",
   "metadata": {},
   "outputs": [
    {
     "data": {
      "text/plain": [
       "['RAI', 'VISHWA']"
      ]
     },
     "execution_count": 22,
     "metadata": {},
     "output_type": "execute_result"
    }
   ],
   "source": [
    "Participants[4:]"
   ]
  },
  {
   "cell_type": "code",
   "execution_count": 23,
   "id": "6857dccc",
   "metadata": {},
   "outputs": [
    {
     "data": {
      "text/plain": [
       "['RAI', 'VISHWA']"
      ]
     },
     "execution_count": 23,
     "metadata": {},
     "output_type": "execute_result"
    }
   ],
   "source": [
    "Participants[-2:]"
   ]
  },
  {
   "cell_type": "markdown",
   "id": "cc3255d4",
   "metadata": {},
   "source": [
    "#  MORE METHODS"
   ]
  },
  {
   "cell_type": "markdown",
   "id": "e671c5de",
   "metadata": {},
   "source": [
    "###  GIVES INDEXING NUMBERS"
   ]
  },
  {
   "cell_type": "code",
   "execution_count": 24,
   "id": "b962613e",
   "metadata": {},
   "outputs": [
    {
     "data": {
      "text/plain": [
       "4"
      ]
     },
     "execution_count": 24,
     "metadata": {},
     "output_type": "execute_result"
    }
   ],
   "source": [
    "Participants.index(\"RAI\")"
   ]
  },
  {
   "cell_type": "code",
   "execution_count": 40,
   "id": "e8d3ca0b",
   "metadata": {},
   "outputs": [
    {
     "data": {
      "text/plain": [
       "['NIKHIL', 22, 22.22, 'YADAVA', 'RAI', 'VISHWA']"
      ]
     },
     "execution_count": 40,
     "metadata": {},
     "output_type": "execute_result"
    }
   ],
   "source": [
    "Participants"
   ]
  },
  {
   "cell_type": "code",
   "execution_count": 42,
   "id": "53d2f8d6",
   "metadata": {},
   "outputs": [],
   "source": [
    "New=[\"NEHA\",\"POONAM\"]"
   ]
  },
  {
   "cell_type": "markdown",
   "id": "87d7e83d",
   "metadata": {},
   "source": [
    "###  CREATED A LISTS UNDER  A LIST"
   ]
  },
  {
   "cell_type": "code",
   "execution_count": 44,
   "id": "d739c11d",
   "metadata": {},
   "outputs": [
    {
     "data": {
      "text/plain": [
       "[['NIKHIL', 22, 22.22, 'YADAVA', 'RAI', 'VISHWA'], ['NEHA', 'POONAM']]"
      ]
     },
     "execution_count": 44,
     "metadata": {},
     "output_type": "execute_result"
    }
   ],
   "source": [
    "Bigger_List=[Participants,New]\n",
    "Bigger_List"
   ]
  },
  {
   "cell_type": "markdown",
   "id": "ffe9d576",
   "metadata": {},
   "source": [
    "# SORTED FOR \"PARTICIPANTS\""
   ]
  },
  {
   "cell_type": "markdown",
   "id": "c698a42c",
   "metadata": {},
   "source": [
    "###  NOTE THE ERROR"
   ]
  },
  {
   "cell_type": "code",
   "execution_count": 29,
   "id": "3aa0e6f9",
   "metadata": {},
   "outputs": [
    {
     "ename": "TypeError",
     "evalue": "'<' not supported between instances of 'int' and 'str'",
     "output_type": "error",
     "traceback": [
      "\u001b[1;31m---------------------------------------------------------------------------\u001b[0m",
      "\u001b[1;31mTypeError\u001b[0m                                 Traceback (most recent call last)",
      "\u001b[1;32m~\\AppData\\Local\\Temp\\ipykernel_16876\\3716017598.py\u001b[0m in \u001b[0;36m<module>\u001b[1;34m\u001b[0m\n\u001b[1;32m----> 1\u001b[1;33m \u001b[0mParticipants\u001b[0m\u001b[1;33m.\u001b[0m\u001b[0msort\u001b[0m\u001b[1;33m(\u001b[0m\u001b[0mreverse\u001b[0m\u001b[1;33m=\u001b[0m\u001b[1;32mFalse\u001b[0m\u001b[1;33m)\u001b[0m\u001b[1;33m\u001b[0m\u001b[1;33m\u001b[0m\u001b[0m\n\u001b[0m",
      "\u001b[1;31mTypeError\u001b[0m: '<' not supported between instances of 'int' and 'str'"
     ]
    }
   ],
   "source": [
    "Participants.sort(reverse=False)"
   ]
  },
  {
   "cell_type": "markdown",
   "id": "84042c20",
   "metadata": {},
   "source": [
    "# NOTE THE ERROR "
   ]
  },
  {
   "cell_type": "code",
   "execution_count": 31,
   "id": "d0955a14",
   "metadata": {},
   "outputs": [
    {
     "data": {
      "text/plain": [
       "(1, 2, 3, 4, 5)"
      ]
     },
     "execution_count": 31,
     "metadata": {},
     "output_type": "execute_result"
    }
   ],
   "source": [
    "Numbers=1,2,3,4,5\n",
    "Numbers"
   ]
  },
  {
   "cell_type": "code",
   "execution_count": 33,
   "id": "237cd4e3",
   "metadata": {
    "scrolled": false
   },
   "outputs": [
    {
     "ename": "AttributeError",
     "evalue": "'tuple' object has no attribute 'sort'",
     "output_type": "error",
     "traceback": [
      "\u001b[1;31m---------------------------------------------------------------------------\u001b[0m",
      "\u001b[1;31mAttributeError\u001b[0m                            Traceback (most recent call last)",
      "\u001b[1;32m~\\AppData\\Local\\Temp\\ipykernel_16876\\2877451262.py\u001b[0m in \u001b[0;36m<module>\u001b[1;34m\u001b[0m\n\u001b[1;32m----> 1\u001b[1;33m \u001b[0mNumbers\u001b[0m\u001b[1;33m.\u001b[0m\u001b[0msort\u001b[0m\u001b[1;33m(\u001b[0m\u001b[0mreverse\u001b[0m\u001b[1;33m=\u001b[0m\u001b[1;32mFalse\u001b[0m\u001b[1;33m)\u001b[0m\u001b[1;33m\u001b[0m\u001b[1;33m\u001b[0m\u001b[0m\n\u001b[0m",
      "\u001b[1;31mAttributeError\u001b[0m: 'tuple' object has no attribute 'sort'"
     ]
    }
   ],
   "source": [
    "Numbers.sort(reverse=False)"
   ]
  },
  {
   "cell_type": "markdown",
   "id": "65298964",
   "metadata": {},
   "source": [
    "# SORTING FOR INTEGERS AND FLOATS"
   ]
  },
  {
   "cell_type": "code",
   "execution_count": 45,
   "id": "e93df742",
   "metadata": {},
   "outputs": [
    {
     "data": {
      "text/plain": [
       "[1, 2, 3, 4, 5.0]"
      ]
     },
     "execution_count": 45,
     "metadata": {},
     "output_type": "execute_result"
    }
   ],
   "source": [
    "Numbers=[1,2,3,4,5.0]\n",
    "Numbers"
   ]
  },
  {
   "cell_type": "code",
   "execution_count": 46,
   "id": "b22391a4",
   "metadata": {},
   "outputs": [
    {
     "data": {
      "text/plain": [
       "[1, 2, 3, 4, 5.0]"
      ]
     },
     "execution_count": 46,
     "metadata": {},
     "output_type": "execute_result"
    }
   ],
   "source": [
    "Numbers.sort(reverse=False)\n",
    "Numbers"
   ]
  },
  {
   "cell_type": "code",
   "execution_count": 47,
   "id": "e94871a1",
   "metadata": {},
   "outputs": [
    {
     "data": {
      "text/plain": [
       "[5.0, 4, 3, 2, 1]"
      ]
     },
     "execution_count": 47,
     "metadata": {},
     "output_type": "execute_result"
    }
   ],
   "source": [
    "Numbers.sort(reverse=True)\n",
    "Numbers"
   ]
  },
  {
   "cell_type": "markdown",
   "id": "969fe32c",
   "metadata": {},
   "source": [
    "# SORTING FOR  STRINGS"
   ]
  },
  {
   "cell_type": "code",
   "execution_count": 49,
   "id": "619d53f0",
   "metadata": {},
   "outputs": [
    {
     "data": {
      "text/plain": [
       "['ANIL', 'ZOYA', 'NIKHIL', 'GANESH']"
      ]
     },
     "execution_count": 49,
     "metadata": {},
     "output_type": "execute_result"
    }
   ],
   "source": [
    "Strings=[\"ANIL\",\"ZOYA\",\"NIKHIL\",\"GANESH\"]\n",
    "Strings"
   ]
  },
  {
   "cell_type": "code",
   "execution_count": 51,
   "id": "731fbb12",
   "metadata": {},
   "outputs": [
    {
     "data": {
      "text/plain": [
       "['ANIL', 'GANESH', 'NIKHIL', 'ZOYA']"
      ]
     },
     "execution_count": 51,
     "metadata": {},
     "output_type": "execute_result"
    }
   ],
   "source": [
    "Strings.sort(reverse=False)\n",
    "Strings"
   ]
  },
  {
   "cell_type": "code",
   "execution_count": 52,
   "id": "233c8950",
   "metadata": {},
   "outputs": [
    {
     "data": {
      "text/plain": [
       "['ZOYA', 'NIKHIL', 'GANESH', 'ANIL']"
      ]
     },
     "execution_count": 52,
     "metadata": {},
     "output_type": "execute_result"
    }
   ],
   "source": [
    "Strings.sort(reverse=True)\n",
    "Strings"
   ]
  }
 ],
 "metadata": {
  "kernelspec": {
   "display_name": "Python 3 (ipykernel)",
   "language": "python",
   "name": "python3"
  },
  "language_info": {
   "codemirror_mode": {
    "name": "ipython",
    "version": 3
   },
   "file_extension": ".py",
   "mimetype": "text/x-python",
   "name": "python",
   "nbconvert_exporter": "python",
   "pygments_lexer": "ipython3",
   "version": "3.9.13"
  }
 },
 "nbformat": 4,
 "nbformat_minor": 5
}
