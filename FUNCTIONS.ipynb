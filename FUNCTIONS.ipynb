{
 "cells": [
  {
   "cell_type": "markdown",
   "id": "4ac3320d",
   "metadata": {},
   "source": [
    "# FUNCTION WITHOUT PARAMETER"
   ]
  },
  {
   "cell_type": "code",
   "execution_count": 2,
   "id": "cb784990",
   "metadata": {},
   "outputs": [],
   "source": [
    "def function_name():\n",
    "    print(\"My First Function\")"
   ]
  },
  {
   "cell_type": "code",
   "execution_count": 3,
   "id": "70dc058f",
   "metadata": {},
   "outputs": [
    {
     "name": "stdout",
     "output_type": "stream",
     "text": [
      "My First Function\n"
     ]
    }
   ],
   "source": [
    "function_name()"
   ]
  },
  {
   "cell_type": "markdown",
   "id": "3e3500cf",
   "metadata": {},
   "source": [
    "# FUNCTION WITH PARAMETER"
   ]
  },
  {
   "cell_type": "code",
   "execution_count": 8,
   "id": "bb8e5ac3",
   "metadata": {},
   "outputs": [],
   "source": [
    "def nik(a):           #### HERE a IS PARAMETER\n",
    "    return a+10"
   ]
  },
  {
   "cell_type": "code",
   "execution_count": 11,
   "id": "033a77d2",
   "metadata": {},
   "outputs": [
    {
     "data": {
      "text/plain": [
       "12"
      ]
     },
     "execution_count": 11,
     "metadata": {},
     "output_type": "execute_result"
    }
   ],
   "source": [
    "nik(2)               ##### HERE IT IS ARGUMENT########"
   ]
  },
  {
   "cell_type": "code",
   "execution_count": 10,
   "id": "6d90ba7c",
   "metadata": {},
   "outputs": [
    {
     "data": {
      "text/plain": [
       "15"
      ]
     },
     "execution_count": 10,
     "metadata": {},
     "output_type": "execute_result"
    }
   ],
   "source": [
    "nik(5)"
   ]
  },
  {
   "cell_type": "markdown",
   "id": "49c7db02",
   "metadata": {},
   "source": [
    "# FUNCTION WITH VARIABLE AND RETURN"
   ]
  },
  {
   "cell_type": "code",
   "execution_count": 12,
   "id": "ee36c9ca",
   "metadata": {},
   "outputs": [],
   "source": [
    "def nik(a):\n",
    "    result=a+10"
   ]
  },
  {
   "cell_type": "code",
   "execution_count": 13,
   "id": "38e21f6d",
   "metadata": {},
   "outputs": [],
   "source": [
    "nik(8)"
   ]
  },
  {
   "cell_type": "markdown",
   "id": "0aa90344",
   "metadata": {},
   "source": [
    "NOTE THE DIFFERNCE"
   ]
  },
  {
   "cell_type": "code",
   "execution_count": 15,
   "id": "cb652ed4",
   "metadata": {},
   "outputs": [],
   "source": [
    "def nik(a):\n",
    "    result=a+10\n",
    "    return result"
   ]
  },
  {
   "cell_type": "code",
   "execution_count": 16,
   "id": "34c197cb",
   "metadata": {},
   "outputs": [
    {
     "data": {
      "text/plain": [
       "18"
      ]
     },
     "execution_count": 16,
     "metadata": {},
     "output_type": "execute_result"
    }
   ],
   "source": [
    "nik(8)"
   ]
  },
  {
   "cell_type": "markdown",
   "id": "66088595",
   "metadata": {},
   "source": [
    "# FUNCTION WITH VARIABLE AND RETURN AND PRINT"
   ]
  },
  {
   "cell_type": "code",
   "execution_count": 19,
   "id": "1ec296c7",
   "metadata": {},
   "outputs": [],
   "source": [
    "def nik(a):\n",
    "    result=a+10\n",
    "    print(\"Outcome\")\n",
    "    return "
   ]
  },
  {
   "cell_type": "code",
   "execution_count": 20,
   "id": "f942a72b",
   "metadata": {},
   "outputs": [
    {
     "name": "stdout",
     "output_type": "stream",
     "text": [
      "Outcome\n"
     ]
    }
   ],
   "source": [
    "nik(2)"
   ]
  },
  {
   "cell_type": "markdown",
   "id": "70534e34",
   "metadata": {},
   "source": [
    "NOTE THE DIFFERNCE"
   ]
  },
  {
   "cell_type": "code",
   "execution_count": 17,
   "id": "396a5bd8",
   "metadata": {},
   "outputs": [],
   "source": [
    "def nik(a):\n",
    "    result=a+10\n",
    "    print(\"Outcome\")\n",
    "    return result"
   ]
  },
  {
   "cell_type": "code",
   "execution_count": 18,
   "id": "a5286ff6",
   "metadata": {},
   "outputs": [
    {
     "name": "stdout",
     "output_type": "stream",
     "text": [
      "Outcome\n"
     ]
    },
    {
     "data": {
      "text/plain": [
       "12"
      ]
     },
     "execution_count": 18,
     "metadata": {},
     "output_type": "execute_result"
    }
   ],
   "source": [
    "nik(2)"
   ]
  },
  {
   "cell_type": "markdown",
   "id": "b692dc35",
   "metadata": {},
   "source": [
    "# WE CAN OBTAIN ONLY A SINGLE RESULT OUT OF A FUNCTION"
   ]
  },
  {
   "cell_type": "code",
   "execution_count": null,
   "id": "b35ee9be",
   "metadata": {},
   "outputs": [],
   "source": []
  }
 ],
 "metadata": {
  "kernelspec": {
   "display_name": "Python 3 (ipykernel)",
   "language": "python",
   "name": "python3"
  },
  "language_info": {
   "codemirror_mode": {
    "name": "ipython",
    "version": 3
   },
   "file_extension": ".py",
   "mimetype": "text/x-python",
   "name": "python",
   "nbconvert_exporter": "python",
   "pygments_lexer": "ipython3",
   "version": "3.9.13"
  }
 },
 "nbformat": 4,
 "nbformat_minor": 5
}
