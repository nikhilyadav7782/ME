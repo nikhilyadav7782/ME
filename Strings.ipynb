{
 "cells": [
  {
   "cell_type": "code",
   "execution_count": 1,
   "id": "745ae723",
   "metadata": {},
   "outputs": [
    {
     "ename": "NameError",
     "evalue": "name 'Nikhil' is not defined",
     "output_type": "error",
     "traceback": [
      "\u001b[1;31m---------------------------------------------------------------------------\u001b[0m",
      "\u001b[1;31mNameError\u001b[0m                                 Traceback (most recent call last)",
      "\u001b[1;32m~\\AppData\\Local\\Temp\\ipykernel_11156\\1543398867.py\u001b[0m in \u001b[0;36m<module>\u001b[1;34m\u001b[0m\n\u001b[1;32m----> 1\u001b[1;33m \u001b[0mNikhil\u001b[0m\u001b[1;33m\u001b[0m\u001b[1;33m\u001b[0m\u001b[0m\n\u001b[0m",
      "\u001b[1;31mNameError\u001b[0m: name 'Nikhil' is not defined"
     ]
    }
   ],
   "source": [
    "Nikhil"
   ]
  },
  {
   "cell_type": "code",
   "execution_count": 2,
   "id": "2eb23d2b",
   "metadata": {},
   "outputs": [
    {
     "data": {
      "text/plain": [
       "'Nikhil'"
      ]
     },
     "execution_count": 2,
     "metadata": {},
     "output_type": "execute_result"
    }
   ],
   "source": [
    "\"Nikhil\"  #USE DOUBLE QUOTES"
   ]
  },
  {
   "cell_type": "code",
   "execution_count": 3,
   "id": "6f5dd36d",
   "metadata": {},
   "outputs": [
    {
     "data": {
      "text/plain": [
       "'Nikhil'"
      ]
     },
     "execution_count": 3,
     "metadata": {},
     "output_type": "execute_result"
    }
   ],
   "source": [
    "'Nikhil'"
   ]
  },
  {
   "cell_type": "code",
   "execution_count": 4,
   "id": "16bfda69",
   "metadata": {},
   "outputs": [
    {
     "name": "stdout",
     "output_type": "stream",
     "text": [
      "Nikhil\n"
     ]
    }
   ],
   "source": [
    "print(\"Nikhil\")"
   ]
  },
  {
   "cell_type": "code",
   "execution_count": 5,
   "id": "1afa5529",
   "metadata": {},
   "outputs": [],
   "source": [
    "n=\"NIkhil\""
   ]
  },
  {
   "cell_type": "code",
   "execution_count": 6,
   "id": "1f6c91de",
   "metadata": {},
   "outputs": [
    {
     "name": "stdout",
     "output_type": "stream",
     "text": [
      "NIkhil\n"
     ]
    }
   ],
   "source": [
    "print(n)"
   ]
  },
  {
   "cell_type": "code",
   "execution_count": 7,
   "id": "5c24ca9f",
   "metadata": {},
   "outputs": [
    {
     "ename": "TypeError",
     "evalue": "unsupported operand type(s) for +: 'int' and 'str'",
     "output_type": "error",
     "traceback": [
      "\u001b[1;31m---------------------------------------------------------------------------\u001b[0m",
      "\u001b[1;31mTypeError\u001b[0m                                 Traceback (most recent call last)",
      "\u001b[1;32m~\\AppData\\Local\\Temp\\ipykernel_11156\\3625072313.py\u001b[0m in \u001b[0;36m<module>\u001b[1;34m\u001b[0m\n\u001b[0;32m      1\u001b[0m \u001b[0my\u001b[0m\u001b[1;33m=\u001b[0m\u001b[1;36m10\u001b[0m\u001b[1;33m\u001b[0m\u001b[1;33m\u001b[0m\u001b[0m\n\u001b[1;32m----> 2\u001b[1;33m \u001b[0mprint\u001b[0m\u001b[1;33m(\u001b[0m\u001b[0my\u001b[0m\u001b[1;33m+\u001b[0m\u001b[1;34m\"Nikhil\"\u001b[0m\u001b[1;33m)\u001b[0m\u001b[1;33m\u001b[0m\u001b[1;33m\u001b[0m\u001b[0m\n\u001b[0m",
      "\u001b[1;31mTypeError\u001b[0m: unsupported operand type(s) for +: 'int' and 'str'"
     ]
    }
   ],
   "source": [
    "y=10\n",
    "print(y+\"Nikhil\")"
   ]
  },
  {
   "cell_type": "code",
   "execution_count": 13,
   "id": "3cfd730f",
   "metadata": {},
   "outputs": [
    {
     "name": "stdout",
     "output_type": "stream",
     "text": [
      "10Nikhil\n"
     ]
    }
   ],
   "source": [
    "y=10\n",
    "print(str(y)+ \"Nikhil\")"
   ]
  },
  {
   "cell_type": "code",
   "execution_count": 14,
   "id": "995551ed",
   "metadata": {},
   "outputs": [
    {
     "data": {
      "text/plain": [
       "'NikhilYadav'"
      ]
     },
     "execution_count": 14,
     "metadata": {},
     "output_type": "execute_result"
    }
   ],
   "source": [
    "\"Nikhil\" \"Yadav\""
   ]
  },
  {
   "cell_type": "code",
   "execution_count": 16,
   "id": "17ec37e7",
   "metadata": {},
   "outputs": [
    {
     "data": {
      "text/plain": [
       "'Nikhil Yadav'"
      ]
     },
     "execution_count": 16,
     "metadata": {},
     "output_type": "execute_result"
    }
   ],
   "source": [
    "\"Nikhil \"\"Yadav\"  #idhar nikhil ke baad ek blank space rakha tha"
   ]
  },
  {
   "cell_type": "code",
   "execution_count": 19,
   "id": "c11c54eb",
   "metadata": {},
   "outputs": [
    {
     "name": "stdout",
     "output_type": "stream",
     "text": [
      "NikhilYadav\n"
     ]
    }
   ],
   "source": [
    "print(\"Nikhil\"+\"Yadav\")"
   ]
  },
  {
   "cell_type": "code",
   "execution_count": 21,
   "id": "2111467c",
   "metadata": {},
   "outputs": [
    {
     "name": "stdout",
     "output_type": "stream",
     "text": [
      "Nikhil Yadav\n"
     ]
    }
   ],
   "source": [
    "print(\"Nikhil\",\"Yadav\")   #Idhar jo comma hai woh dono words ko alag karega"
   ]
  },
  {
   "cell_type": "code",
   "execution_count": 23,
   "id": "2be48c28",
   "metadata": {},
   "outputs": [
    {
     "data": {
      "text/plain": [
       "(1, 3, 5.5, 'Cars')"
      ]
     },
     "execution_count": 23,
     "metadata": {},
     "output_type": "execute_result"
    }
   ],
   "source": [
    "1,3,5.5,\"Cars\""
   ]
  },
  {
   "cell_type": "code",
   "execution_count": null,
   "id": "9fd14f14",
   "metadata": {},
   "outputs": [],
   "source": []
  }
 ],
 "metadata": {
  "kernelspec": {
   "display_name": "Python 3 (ipykernel)",
   "language": "python",
   "name": "python3"
  },
  "language_info": {
   "codemirror_mode": {
    "name": "ipython",
    "version": 3
   },
   "file_extension": ".py",
   "mimetype": "text/x-python",
   "name": "python",
   "nbconvert_exporter": "python",
   "pygments_lexer": "ipython3",
   "version": "3.9.13"
  }
 },
 "nbformat": 4,
 "nbformat_minor": 5
}
