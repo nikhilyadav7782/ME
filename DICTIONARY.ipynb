{
 "cells": [
  {
   "cell_type": "code",
   "execution_count": 5,
   "id": "a11593a0",
   "metadata": {},
   "outputs": [
    {
     "data": {
      "text/plain": [
       "{'K1': 'NIk', 'K2': 'YADAV', 'K3': 'KK'}"
      ]
     },
     "execution_count": 5,
     "metadata": {},
     "output_type": "execute_result"
    }
   ],
   "source": [
    "dict_1={\"K1\":\"NIk\",\"K2\":\"YADAV\",\"K3\":\"KK\"}\n",
    "dict_1"
   ]
  },
  {
   "cell_type": "code",
   "execution_count": 7,
   "id": "f2d226c7",
   "metadata": {},
   "outputs": [
    {
     "data": {
      "text/plain": [
       "'NIk'"
      ]
     },
     "execution_count": 7,
     "metadata": {},
     "output_type": "execute_result"
    }
   ],
   "source": [
    "dict_1[\"K1\"]"
   ]
  },
  {
   "cell_type": "code",
   "execution_count": 9,
   "id": "5a21fff9",
   "metadata": {},
   "outputs": [
    {
     "data": {
      "text/plain": [
       "{'K1': 'NIk', 'K2': 'YADAV', 'K3': 'KK', 'K4': 22}"
      ]
     },
     "execution_count": 9,
     "metadata": {},
     "output_type": "execute_result"
    }
   ],
   "source": [
    "dict_1[\"K4\"]=22\n",
    "dict_1"
   ]
  },
  {
   "cell_type": "code",
   "execution_count": 12,
   "id": "dec41c7f",
   "metadata": {},
   "outputs": [
    {
     "data": {
      "text/plain": [
       "{'K1': 23, 'K2': 'YADAV', 'K3': 'KK', 'K4': 22, 'K!': 23}"
      ]
     },
     "execution_count": 12,
     "metadata": {},
     "output_type": "execute_result"
    }
   ],
   "source": [
    "dict_1[\"K1\"]=23\n",
    "dict_1"
   ]
  },
  {
   "cell_type": "code",
   "execution_count": 13,
   "id": "3c7de0b3",
   "metadata": {},
   "outputs": [],
   "source": [
    "del dict_1[\"K!\"]"
   ]
  },
  {
   "cell_type": "code",
   "execution_count": 14,
   "id": "ea08ea72",
   "metadata": {},
   "outputs": [
    {
     "data": {
      "text/plain": [
       "{'K1': 23, 'K2': 'YADAV', 'K3': 'KK', 'K4': 22}"
      ]
     },
     "execution_count": 14,
     "metadata": {},
     "output_type": "execute_result"
    }
   ],
   "source": [
    "dict_1"
   ]
  },
  {
   "cell_type": "markdown",
   "id": "17e7316b",
   "metadata": {},
   "source": [
    "# ONLY 1 PEOPLE WORK IN FIRST DEPARTMENT BUT THREE PEOPLE WORK IN DEPARTMENT TWO\n"
   ]
  },
  {
   "cell_type": "code",
   "execution_count": 15,
   "id": "8ac53a4f",
   "metadata": {},
   "outputs": [],
   "source": [
    "department={\"dept1\":\"PETER\",\"dept2\":[\"NIK\",\"YADAV\",\"KK\"]}"
   ]
  },
  {
   "cell_type": "code",
   "execution_count": 16,
   "id": "82d810ea",
   "metadata": {},
   "outputs": [
    {
     "data": {
      "text/plain": [
       "'PETER'"
      ]
     },
     "execution_count": 16,
     "metadata": {},
     "output_type": "execute_result"
    }
   ],
   "source": [
    "department[\"dept1\"]"
   ]
  },
  {
   "cell_type": "code",
   "execution_count": 18,
   "id": "de430b57",
   "metadata": {},
   "outputs": [
    {
     "data": {
      "text/plain": [
       "'NIK'"
      ]
     },
     "execution_count": 18,
     "metadata": {},
     "output_type": "execute_result"
    }
   ],
   "source": [
    "department[\"dept2\"][0]"
   ]
  },
  {
   "cell_type": "markdown",
   "id": "c464cb09",
   "metadata": {},
   "source": [
    "## ANOTHER WAY TO MAKE DICTIONARY"
   ]
  },
  {
   "cell_type": "code",
   "execution_count": 31,
   "id": "19609d23",
   "metadata": {},
   "outputs": [
    {
     "data": {
      "text/plain": [
       "{'N': 1, 'I': 2, 'K': 3}"
      ]
     },
     "execution_count": 31,
     "metadata": {},
     "output_type": "execute_result"
    }
   ],
   "source": [
    "P={}\n",
    "P[\"N\"]=1\n",
    "P[\"I\"]=2\n",
    "P[\"K\"]=3\n",
    "P"
   ]
  },
  {
   "cell_type": "code",
   "execution_count": 29,
   "id": "10d53063",
   "metadata": {},
   "outputs": [
    {
     "data": {
      "text/plain": [
       "1"
      ]
     },
     "execution_count": 29,
     "metadata": {},
     "output_type": "execute_result"
    }
   ],
   "source": [
    "P.get(\"N\")"
   ]
  },
  {
   "cell_type": "code",
   "execution_count": 32,
   "id": "8400b4cb",
   "metadata": {},
   "outputs": [
    {
     "data": {
      "text/plain": [
       "3"
      ]
     },
     "execution_count": 32,
     "metadata": {},
     "output_type": "execute_result"
    }
   ],
   "source": [
    "P.get(\"K\")"
   ]
  },
  {
   "cell_type": "markdown",
   "id": "40e43620",
   "metadata": {},
   "source": [
    "# "
   ]
  },
  {
   "cell_type": "code",
   "execution_count": 36,
   "id": "1d104694",
   "metadata": {},
   "outputs": [
    {
     "name": "stdout",
     "output_type": "stream",
     "text": [
      "None\n"
     ]
    }
   ],
   "source": [
    "print(P.get(\"3\"))"
   ]
  },
  {
   "cell_type": "code",
   "execution_count": null,
   "id": "f95f7642",
   "metadata": {},
   "outputs": [],
   "source": []
  }
 ],
 "metadata": {
  "kernelspec": {
   "display_name": "Python 3 (ipykernel)",
   "language": "python",
   "name": "python3"
  },
  "language_info": {
   "codemirror_mode": {
    "name": "ipython",
    "version": 3
   },
   "file_extension": ".py",
   "mimetype": "text/x-python",
   "name": "python",
   "nbconvert_exporter": "python",
   "pygments_lexer": "ipython3",
   "version": "3.9.13"
  }
 },
 "nbformat": 4,
 "nbformat_minor": 5
}
