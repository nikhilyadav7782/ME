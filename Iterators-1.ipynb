{
 "cells": [
  {
   "cell_type": "markdown",
   "id": "d7f79e49",
   "metadata": {},
   "source": [
    "# FOR LOOP "
   ]
  },
  {
   "cell_type": "code",
   "execution_count": 1,
   "id": "06e5a37f",
   "metadata": {},
   "outputs": [],
   "source": [
    "even=[0,2,4,6,8,10,12,14,16,18,20]"
   ]
  },
  {
   "cell_type": "code",
   "execution_count": 2,
   "id": "7a35c707",
   "metadata": {},
   "outputs": [
    {
     "name": "stdout",
     "output_type": "stream",
     "text": [
      "0\n",
      "2\n",
      "4\n",
      "6\n",
      "8\n",
      "10\n",
      "12\n",
      "14\n",
      "16\n",
      "18\n",
      "20\n"
     ]
    }
   ],
   "source": [
    "for n in even:\n",
    "    print(n)"
   ]
  },
  {
   "cell_type": "code",
   "execution_count": 3,
   "id": "f775ccaf",
   "metadata": {},
   "outputs": [
    {
     "name": "stdout",
     "output_type": "stream",
     "text": [
      "0 2 4 6 8 10 12 14 16 18 20 "
     ]
    }
   ],
   "source": [
    "for n in even:\n",
    "    print(n , end=\" \")"
   ]
  },
  {
   "cell_type": "markdown",
   "id": "78f79166",
   "metadata": {},
   "source": [
    "# WHILE LOOP "
   ]
  },
  {
   "cell_type": "code",
   "execution_count": null,
   "id": "a7588f69",
   "metadata": {},
   "outputs": [],
   "source": []
  },
  {
   "cell_type": "code",
   "execution_count": 6,
   "id": "4c17ace2",
   "metadata": {},
   "outputs": [
    {
     "name": "stdout",
     "output_type": "stream",
     "text": [
      "0 2 4 6 8 10 12 14 16 18 20 "
     ]
    }
   ],
   "source": [
    "x=0\n",
    "\n",
    "while x <= 20:\n",
    "    print(x , end =\" \")  #### LEAVING HERE WILL CAUSE PROBLEM ##### THE COMPUTER WILLL GO IN INFINITE LOOP\n",
    "    x = x + 2     ## THIS IS CALLED INCREMENTING"
   ]
  },
  {
   "cell_type": "code",
   "execution_count": 10,
   "id": "c5599272",
   "metadata": {},
   "outputs": [
    {
     "name": "stdout",
     "output_type": "stream",
     "text": [
      "0 2 4 6 8 10 12 14 16 18 20 "
     ]
    }
   ],
   "source": [
    "x=0\n",
    "\n",
    "while x <= 20:\n",
    "    print(x , end =\" \")  #### LEAVING HERE WILL CAUSE PROBLEM ##### THE COMPUTER WILLL GO IN INFINITE LOOP\n",
    "    x += 2"
   ]
  },
  {
   "cell_type": "code",
   "execution_count": 8,
   "id": "fd641369",
   "metadata": {},
   "outputs": [
    {
     "name": "stdout",
     "output_type": "stream",
     "text": [
      "0 2 4 6 8 10 12 14 16 18 20 "
     ]
    }
   ],
   "source": [
    "x=0\n",
    "while x <= 20:\n",
    "    print(x, end = \" \")\n",
    "    x += 2"
   ]
  },
  {
   "cell_type": "markdown",
   "id": "a5692684",
   "metadata": {},
   "source": [
    "# YOU CAN USE BOTH FOR OR WHILE LOOP DEPENDING ON YOUR CHOICE"
   ]
  },
  {
   "cell_type": "code",
   "execution_count": null,
   "id": "d5890ba9",
   "metadata": {},
   "outputs": [],
   "source": []
  }
 ],
 "metadata": {
  "kernelspec": {
   "display_name": "Python 3 (ipykernel)",
   "language": "python",
   "name": "python3"
  },
  "language_info": {
   "codemirror_mode": {
    "name": "ipython",
    "version": 3
   },
   "file_extension": ".py",
   "mimetype": "text/x-python",
   "name": "python",
   "nbconvert_exporter": "python",
   "pygments_lexer": "ipython3",
   "version": "3.9.13"
  }
 },
 "nbformat": 4,
 "nbformat_minor": 5
}
