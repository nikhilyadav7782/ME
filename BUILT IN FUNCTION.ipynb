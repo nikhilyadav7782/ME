{
 "cells": [
  {
   "cell_type": "code",
   "execution_count": 1,
   "id": "4e0ecd59",
   "metadata": {},
   "outputs": [
    {
     "name": "stdout",
     "output_type": "stream",
     "text": [
      "nik\n"
     ]
    }
   ],
   "source": [
    "print(\"nik\")"
   ]
  },
  {
   "cell_type": "code",
   "execution_count": 2,
   "id": "e2cb2bbf",
   "metadata": {},
   "outputs": [
    {
     "data": {
      "text/plain": [
       "int"
      ]
     },
     "execution_count": 2,
     "metadata": {},
     "output_type": "execute_result"
    }
   ],
   "source": [
    "type(10)   '''TYPE BATAYEGA'''"
   ]
  },
  {
   "cell_type": "code",
   "execution_count": 3,
   "id": "da433f0f",
   "metadata": {},
   "outputs": [
    {
     "data": {
      "text/plain": [
       "2"
      ]
     },
     "execution_count": 3,
     "metadata": {},
     "output_type": "execute_result"
    }
   ],
   "source": [
    "int(2.99)"
   ]
  },
  {
   "cell_type": "code",
   "execution_count": 4,
   "id": "f5fb859e",
   "metadata": {},
   "outputs": [
    {
     "data": {
      "text/plain": [
       "2.0"
      ]
     },
     "execution_count": 4,
     "metadata": {},
     "output_type": "execute_result"
    }
   ],
   "source": [
    "float(2)"
   ]
  },
  {
   "cell_type": "code",
   "execution_count": 5,
   "id": "83d73c42",
   "metadata": {},
   "outputs": [
    {
     "data": {
      "text/plain": [
       "'200'"
      ]
     },
     "execution_count": 5,
     "metadata": {},
     "output_type": "execute_result"
    }
   ],
   "source": [
    "str(200)"
   ]
  },
  {
   "cell_type": "code",
   "execution_count": 6,
   "id": "ccea7278",
   "metadata": {},
   "outputs": [
    {
     "data": {
      "text/plain": [
       "3"
      ]
     },
     "execution_count": 6,
     "metadata": {},
     "output_type": "execute_result"
    }
   ],
   "source": [
    "max(1,2,3)   '''MAXIMUM VALUE DEGA'''"
   ]
  },
  {
   "cell_type": "code",
   "execution_count": 7,
   "id": "33e5613a",
   "metadata": {},
   "outputs": [
    {
     "data": {
      "text/plain": [
       "1"
      ]
     },
     "execution_count": 7,
     "metadata": {},
     "output_type": "execute_result"
    }
   ],
   "source": [
    "min(1,2,3) '''MINIMUM VALUE DEGA'''"
   ]
  },
  {
   "cell_type": "code",
   "execution_count": 8,
   "id": "73ccd268",
   "metadata": {},
   "outputs": [
    {
     "data": {
      "text/plain": [
       "20"
      ]
     },
     "execution_count": 8,
     "metadata": {},
     "output_type": "execute_result"
    }
   ],
   "source": [
    "z=-20\n",
    "abs(z)  '''POSITIVE AUR NEGATIVE DONO KO POSTIVE KAREGA'''"
   ]
  },
  {
   "cell_type": "code",
   "execution_count": 9,
   "id": "ac9c10d6",
   "metadata": {},
   "outputs": [],
   "source": [
    "list_1=[1,2,3]"
   ]
  },
  {
   "cell_type": "code",
   "execution_count": 10,
   "id": "48d3cbc4",
   "metadata": {},
   "outputs": [
    {
     "data": {
      "text/plain": [
       "6"
      ]
     },
     "execution_count": 10,
     "metadata": {},
     "output_type": "execute_result"
    }
   ],
   "source": [
    "sum(list_1)     '''SAB SUM KAREGA'''"
   ]
  },
  {
   "cell_type": "code",
   "execution_count": 15,
   "id": "f2670ad2",
   "metadata": {},
   "outputs": [
    {
     "data": {
      "text/plain": [
       "2.5"
      ]
     },
     "execution_count": 15,
     "metadata": {},
     "output_type": "execute_result"
    }
   ],
   "source": [
    "'''ROUND MAI JO PEHLA HAI WOH VALUE HAI JO DUSRA HAI WOH KITNA VALUE ROUNDOFF KARNA HAI WOH'''\n",
    "round(2.45,1) "
   ]
  },
  {
   "cell_type": "code",
   "execution_count": 18,
   "id": "6a399924",
   "metadata": {},
   "outputs": [
    {
     "data": {
      "text/plain": [
       "2"
      ]
     },
     "execution_count": 18,
     "metadata": {},
     "output_type": "execute_result"
    }
   ],
   "source": [
    "round(2.45)  # WILL ROUND IN INTEGER"
   ]
  },
  {
   "cell_type": "code",
   "execution_count": 20,
   "id": "3969549b",
   "metadata": {},
   "outputs": [
    {
     "data": {
      "text/plain": [
       "6"
      ]
     },
     "execution_count": 20,
     "metadata": {},
     "output_type": "execute_result"
    }
   ],
   "source": [
    "'''LENGTH BATAYEGA KISKA BHI'''\n",
    "len(\"NIKHIL\")"
   ]
  },
  {
   "cell_type": "code",
   "execution_count": null,
   "id": "f446b295",
   "metadata": {},
   "outputs": [],
   "source": []
  }
 ],
 "metadata": {
  "kernelspec": {
   "display_name": "Python 3 (ipykernel)",
   "language": "python",
   "name": "python3"
  },
  "language_info": {
   "codemirror_mode": {
    "name": "ipython",
    "version": 3
   },
   "file_extension": ".py",
   "mimetype": "text/x-python",
   "name": "python",
   "nbconvert_exporter": "python",
   "pygments_lexer": "ipython3",
   "version": "3.9.13"
  }
 },
 "nbformat": 4,
 "nbformat_minor": 5
}
